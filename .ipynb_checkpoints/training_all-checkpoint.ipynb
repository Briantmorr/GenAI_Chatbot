{
 "cells": [
  {
   "cell_type": "code",
   "execution_count": 1,
   "metadata": {},
   "outputs": [],
   "source": [
    "from transformers import AutoModelForQuestionAnswering, TrainingArguments, Trainer, AutoTokenizer\n",
    "import torch\n",
    "from datasets import load_dataset\n",
    "import numpy as np\n",
    "import pandas as pd"
   ]
  },
  {
   "cell_type": "code",
   "execution_count": 2,
   "id": "46c5556e",
   "metadata": {},
   "outputs": [
    {
     "name": "stdout",
     "output_type": "stream",
     "text": [
      "Using MPS backend.\n"
     ]
    }
   ],
   "source": [
    "device = torch.device(\"mps\")\n",
    "print(\"Using MPS backend.\")"
   ]
  },
  {
   "cell_type": "code",
   "execution_count": 3,
   "id": "96352e17",
   "metadata": {},
   "outputs": [],
   "source": [
    "squad_dataset = load_dataset('squad')\n",
    "squad_dataset['train'] = squad_dataset['train'].shuffle(seed=42))\n",
    "squad_dataset['validation'] = squad_dataset['validation'].shuffle(seed=42)\n",
    "dataset_with_length = squad_dataset.map(lambda x: {\"length\": len(x[\"context\"])})"
   ]
  },
  {
   "cell_type": "code",
   "execution_count": 4,
   "id": "50e03d60",
   "metadata": {},
   "outputs": [
    {
     "name": "stderr",
     "output_type": "stream",
     "text": [
      "/Users/I523193/miniforge3/envs/tf/lib/python3.12/site-packages/transformers/tokenization_utils_base.py:1617: FutureWarning: `clean_up_tokenization_spaces` was not set. It will be set to `True` by default. This behavior will be deprecated in transformers v4.45, and will be then set to `False` by default. For more details check this issue: https://github.com/huggingface/transformers/issues/31884\n",
      "  warnings.warn(\n"
     ]
    }
   ],
   "source": [
    "tokenizer = AutoTokenizer.from_pretrained('bert-base-cased')\n"
   ]
  },
  {
   "cell_type": "code",
   "execution_count": 5,
   "id": "de7281ab",
   "metadata": {},
   "outputs": [],
   "source": [
    "def prepare_features(examples):\n",
    "    tokenized_examples = tokenizer(\n",
    "        examples['question'],\n",
    "        examples['context'],\n",
    "        truncation=\"only_second\",\n",
    "        max_length=512,\n",
    "        stride=128,\n",
    "        return_overflowing_tokens=True,\n",
    "        return_offsets_mapping=True,\n",
    "        padding=\"max_length\",\n",
    "    )\n",
    "\n",
    "    sample_mapping = tokenized_examples.pop('overflow_to_sample_mapping')\n",
    "    offset_mapping = tokenized_examples.pop('offset_mapping')\n",
    "\n",
    "    tokenized_examples['start_positions'] = []\n",
    "    tokenized_examples['end_positions'] = []\n",
    "\n",
    "    for i, offsets in enumerate(offset_mapping):\n",
    "        sample_index = sample_mapping[i]\n",
    "        answers = examples['answers'][sample_index]\n",
    "        input_ids = tokenized_examples['input_ids'][i]\n",
    "        cls_index = input_ids.index(tokenizer.cls_token_id)\n",
    "\n",
    "        if len(answers['answer_start']) == 0:\n",
    "            tokenized_examples['start_positions'].append(cls_index)\n",
    "            tokenized_examples['end_positions'].append(cls_index)\n",
    "        else:\n",
    "            start_char = answers['answer_start'][0]\n",
    "            end_char = start_char + len(answers['text'][0])\n",
    "            sequence_ids = tokenized_examples.sequence_ids(i)\n",
    "            context_start = sequence_ids.index(1)\n",
    "            context_end = len(sequence_ids) - sequence_ids[::-1].index(1) - 1\n",
    "\n",
    "            if offsets[context_start][0] > end_char or offsets[context_end][1] < start_char:\n",
    "                tokenized_examples['start_positions'].append(cls_index)\n",
    "                tokenized_examples['end_positions'].append(cls_index)\n",
    "            else:\n",
    "                token_start_index = context_start\n",
    "                token_end_index = context_end\n",
    "\n",
    "                while token_start_index < len(offsets) and offsets[token_start_index][0] <= start_char:\n",
    "                    token_start_index += 1\n",
    "                tokenized_examples['start_positions'].append(token_start_index - 1)\n",
    "\n",
    "                while offsets[token_end_index][1] >= end_char:\n",
    "                    token_end_index -= 1\n",
    "                tokenized_examples['end_positions'].append(token_end_index + 1)\n",
    "\n",
    "    return tokenized_examples\n"
   ]
  },
  {
   "cell_type": "code",
   "execution_count": 6,
   "id": "16150c67",
   "metadata": {},
   "outputs": [
    {
     "data": {
      "application/vnd.jupyter.widget-view+json": {
       "model_id": "db89ff6a32814ddbbfa1ac080580ec7e",
       "version_major": 2,
       "version_minor": 0
      },
      "text/plain": [
       "Map:   0%|          | 0/10570 [00:00<?, ? examples/s]"
      ]
     },
     "metadata": {},
     "output_type": "display_data"
    }
   ],
   "source": [
    "tokenized_datasets = squad_dataset.map(lambda x: prepare_features(x), batched=True, remove_columns=squad_dataset[\"train\"].column_names)"
   ]
  },
  {
   "cell_type": "code",
   "execution_count": 7,
   "id": "8509a2e2",
   "metadata": {},
   "outputs": [],
   "source": [
    "train_dataset = tokenized_datasets['train']\n",
    "eval_dataset = tokenized_datasets['validation']\n",
    "train_dataset.set_format(type='torch', columns=['input_ids', 'attention_mask', 'token_type_ids', 'start_positions', 'end_positions'])\n",
    "eval_dataset.set_format(type='torch', columns=['input_ids', 'attention_mask', 'token_type_ids', 'start_positions', 'end_positions'])"
   ]
  },
  {
   "cell_type": "code",
   "execution_count": 8,
   "id": "95154218",
   "metadata": {},
   "outputs": [
    {
     "name": "stderr",
     "output_type": "stream",
     "text": [
      "Some weights of BertForQuestionAnswering were not initialized from the model checkpoint at bert-base-cased and are newly initialized: ['qa_outputs.bias', 'qa_outputs.weight']\n",
      "You should probably TRAIN this model on a down-stream task to be able to use it for predictions and inference.\n",
      "/Users/I523193/miniforge3/envs/tf/lib/python3.12/site-packages/transformers/training_args.py:1545: FutureWarning: `evaluation_strategy` is deprecated and will be removed in version 4.46 of 🤗 Transformers. Use `eval_strategy` instead\n",
      "  warnings.warn(\n"
     ]
    },
    {
     "data": {
      "text/html": [
       "\n",
       "    <div>\n",
       "      \n",
       "      <progress value='5008' max='5008' style='width:300px; height:20px; vertical-align: middle;'></progress>\n",
       "      [5008/5008 2:15:27, Epoch 2/2]\n",
       "    </div>\n",
       "    <table border=\"1\" class=\"dataframe\">\n",
       "  <thead>\n",
       " <tr style=\"text-align: left;\">\n",
       "      <th>Epoch</th>\n",
       "      <th>Training Loss</th>\n",
       "      <th>Validation Loss</th>\n",
       "    </tr>\n",
       "  </thead>\n",
       "  <tbody>\n",
       "    <tr>\n",
       "      <td>1</td>\n",
       "      <td>1.254500</td>\n",
       "      <td>1.238514</td>\n",
       "    </tr>\n",
       "    <tr>\n",
       "      <td>2</td>\n",
       "      <td>0.856600</td>\n",
       "      <td>1.245766</td>\n",
       "    </tr>\n",
       "  </tbody>\n",
       "</table><p>"
      ],
      "text/plain": [
       "<IPython.core.display.HTML object>"
      ]
     },
     "metadata": {},
     "output_type": "display_data"
    },
    {
     "data": {
      "text/plain": [
       "TrainOutput(global_step=5008, training_loss=1.2163017721602711, metrics={'train_runtime': 8138.3485, 'train_samples_per_second': 4.922, 'train_steps_per_second': 0.615, 'total_flos': 1.0465980294303744e+16, 'train_loss': 1.2163017721602711, 'epoch': 2.0})"
      ]
     },
     "execution_count": 8,
     "metadata": {},
     "output_type": "execute_result"
    }
   ],
   "source": [
    "model = AutoModelForQuestionAnswering.from_pretrained('bert-base-cased')\n",
    "model.to(device)\n",
    "\n",
    "training_args = TrainingArguments(\n",
    "    output_dir='./results',\n",
    "    evaluation_strategy=\"epoch\",\n",
    "    learning_rate=3e-5,\n",
    "    per_device_train_batch_size=8,\n",
    "    per_device_eval_batch_size=8,\n",
    "    num_train_epochs=2,\n",
    "    weight_decay=0.01,\n",
    "    logging_dir='./logs',\n",
    "    logging_steps=50,\n",
    "    save_total_limit=2,\n",
    "    fp16=False,\n",
    ")\n",
    "\n",
    "trainer = Trainer(\n",
    "    model=model,\n",
    "    args=training_args,\n",
    "    train_dataset=train_dataset,\n",
    "    eval_dataset=eval_dataset,\n",
    "    tokenizer=tokenizer,\n",
    ")\n",
    "\n",
    "trainer.train()"
   ]
  },
  {
   "cell_type": "code",
   "execution_count": 9,
   "id": "b9c50a94",
   "metadata": {},
   "outputs": [
    {
     "data": {
      "text/plain": [
       "('./models/test_20k_model/tokenizer_config.json',\n",
       " './models/test_20k_model/special_tokens_map.json',\n",
       " './models/test_20k_model/vocab.txt',\n",
       " './models/test_20k_model/added_tokens.json',\n",
       " './models/test_20k_model/tokenizer.json')"
      ]
     },
     "execution_count": 9,
     "metadata": {},
     "output_type": "execute_result"
    }
   ],
   "source": [
    "trainer.save_model('./models/test_20k_model')\n",
    "tokenizer.save_pretrained('./models/test_20k_model')"
   ]
  },
  {
   "cell_type": "code",
   "execution_count": 10,
   "id": "2f442387",
   "metadata": {},
   "outputs": [
    {
     "data": {
      "text/html": [
       "\n",
       "    <div>\n",
       "      \n",
       "      <progress value='1329' max='1329' style='width:300px; height:20px; vertical-align: middle;'></progress>\n",
       "      [1329/1329 10:14]\n",
       "    </div>\n",
       "    "
      ],
      "text/plain": [
       "<IPython.core.display.HTML object>"
      ]
     },
     "metadata": {},
     "output_type": "display_data"
    },
    {
     "name": "stdout",
     "output_type": "stream",
     "text": [
      "Evaluation Results: {'eval_loss': 1.2457658052444458, 'eval_runtime': 621.8098, 'eval_samples_per_second': 17.094, 'eval_steps_per_second': 2.137, 'epoch': 2.0}\n"
     ]
    }
   ],
   "source": [
    "eval_results = trainer.evaluate(eval_dataset)\n",
    "print(\"Evaluation Results:\", eval_results)"
   ]
  },
  {
   "cell_type": "code",
   "execution_count": 11,
   "id": "b1ddda2e",
   "metadata": {},
   "outputs": [],
   "source": [
    "def evaluate_and_count_correct_answers(trainer, eval_dataset, tokenizer):\n",
    "    correct_count = 0\n",
    "    total_count = len(eval_dataset)\n",
    "\n",
    "    for example in eval_dataset:\n",
    "        # print(example)\n",
    "        inputs = tokenizer(\n",
    "            example[\"question\"], example[\"context\"],\n",
    "            return_tensors=\"pt\", truncation=True, max_length=512\n",
    "        ).to(device)\n",
    "\n",
    "        with torch.no_grad():\n",
    "            outputs = model(**inputs)\n",
    "            start_logits = outputs.start_logits\n",
    "            end_logits = outputs.end_logits\n",
    "\n",
    "            start_index = torch.argmax(start_logits)\n",
    "            end_index = torch.argmax(end_logits) + 1\n",
    "\n",
    "            predicted_answer = tokenizer.decode(inputs[\"input_ids\"][0][start_index:end_index]).lower()\n",
    "            correct_answers = [answer.lower() for answer in example[\"answers\"][\"text\"]]\n",
    "            # print(f\"Predicted Answer: {predicted_answer}\")\n",
    "            # print(f\"Correct Answers: {correct_answers}\")\n",
    "            if predicted_answer in correct_answers:\n",
    "                correct_count += 1\n",
    "\n",
    "    accuracy = correct_count / total_count\n",
    "    print(f\"Correct Answers: {correct_count}/{total_count}\")\n",
    "    print(f\"Accuracy: {accuracy:.2f}\")\n"
   ]
  },
  {
   "cell_type": "code",
   "execution_count": 12,
   "id": "fe82ca33",
   "metadata": {},
   "outputs": [
    {
     "name": "stdout",
     "output_type": "stream",
     "text": [
      "Correct Answers: 6582/10570\n",
      "Accuracy: 0.62\n"
     ]
    }
   ],
   "source": [
    "evaluate_and_count_correct_answers(trainer, squad_dataset['validation'], tokenizer)"
   ]
  },
  {
   "cell_type": "markdown",
   "id": "49ac1295",
   "metadata": {},
   "source": [
    "> Evaluation Results: {'eval_loss': 1.2457658052444458, 'eval_runtime': 621.8098, 'eval_samples_per_second': 17.094, 'eval_steps_per_second': 2.137, 'epoch': 2.0}\n",
    "\n",
    "Correct Answers: 6582/10570\n",
    "Accuracy: 0.62"
   ]
  }
 ],
 "metadata": {
  "kernelspec": {
   "display_name": "Python 3 (ipykernel)",
   "language": "python",
   "name": "python3"
  },
  "language_info": {
   "codemirror_mode": {
    "name": "ipython",
    "version": 3
   },
   "file_extension": ".py",
   "mimetype": "text/x-python",
   "name": "python",
   "nbconvert_exporter": "python",
   "pygments_lexer": "ipython3",
   "version": "3.12.4"
  }
 },
 "nbformat": 4,
 "nbformat_minor": 5
}
